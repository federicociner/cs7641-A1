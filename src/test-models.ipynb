{
 "cells": [
  {
   "cell_type": "code",
   "execution_count": 5,
   "metadata": {},
   "outputs": [],
   "source": [
    "from model_evaluation import *\n",
    "from model_train import *\n",
    "import seaborn\n",
    "\n",
    "# set seed for cross-validation sampling\n",
    "seed = 0\n",
    "\n",
    "# set scoring function\n",
    "scorer = make_scorer(balanced_accuracy)\n",
    "\n",
    "# load datasets\n",
    "p_wine = get_abspath('winequality.csv', 'data/experiments')\n",
    "p_seismic = get_abspath('seismic-bumps.csv', 'data/experiments')\n",
    "df_wine = pd.read_csv(p_wine)\n",
    "df_seismic = pd.read_csv(p_seismic)\n",
    "dfs = {'wine': df_wine, 'seismic': df_seismic}\n",
    "dnames = ['wine', 'seismic']"
   ]
  },
  {
   "cell_type": "code",
   "execution_count": 14,
   "metadata": {},
   "outputs": [],
   "source": [
    "labels = dfs['seismic']['class']\n",
    "weights = compute_sample_weight('balanced', labels)"
   ]
  },
  {
   "cell_type": "code",
   "execution_count": 17,
   "metadata": {
    "scrolled": true
   },
   "outputs": [
    {
     "data": {
      "text/plain": [
       "array([ 0.53521127,  7.6       ])"
      ]
     },
     "execution_count": 17,
     "metadata": {},
     "output_type": "execute_result"
    }
   ],
   "source": [
    "np.unique(weights)"
   ]
  },
  {
   "cell_type": "code",
   "execution_count": 19,
   "metadata": {},
   "outputs": [],
   "source": [
    "import os\n",
    "combined = get_abspath('combined_results.csv', 'results')\n",
    "os.remove(combined)"
   ]
  },
  {
   "cell_type": "code",
   "execution_count": null,
   "metadata": {},
   "outputs": [],
   "source": []
  }
 ],
 "metadata": {
  "kernelspec": {
   "display_name": "Python 2",
   "language": "python",
   "name": "python2"
  },
  "language_info": {
   "codemirror_mode": {
    "name": "ipython",
    "version": 2
   },
   "file_extension": ".py",
   "mimetype": "text/x-python",
   "name": "python",
   "nbconvert_exporter": "python",
   "pygments_lexer": "ipython2",
   "version": "2.7.12"
  }
 },
 "nbformat": 4,
 "nbformat_minor": 2
}
