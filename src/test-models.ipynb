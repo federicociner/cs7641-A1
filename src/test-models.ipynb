{
 "cells": [
  {
   "cell_type": "code",
   "execution_count": 5,
   "metadata": {},
   "outputs": [],
   "source": [
    "from model_evaluation import *\n",
    "from model_train import *\n",
    "\n",
    "# set seed for cross-validation sampling\n",
    "seed = 0\n",
    "\n",
    "# set scoring function\n",
    "scorer = make_scorer(balanced_accuracy)\n",
    "\n",
    "# load datasets\n",
    "p_wine = get_abspath('winequality.csv', 'data/experiments')\n",
    "p_seismic = get_abspath('seismic-bumps.csv', 'data/experiments')\n",
    "df_wine = pd.read_csv(p_wine)\n",
    "df_seismic = pd.read_csv(p_seismic)\n",
    "dfs = {'wine': df_wine, 'seismic': df_seismic}\n",
    "dnames = ['wine', 'seismic']\n",
    "\n",
    "# load pickled models\n",
    "estimators = {'KNN': None, 'DT': None}\n",
    "mnames = ['KNN', 'DT']\n",
    "for df in dnames:\n",
    "    for m in mnames:\n",
    "        mfile = '{}/{}_best_estimator.pkl'.format(m, df)\n",
    "        model = load_pickled_model(get_abspath(mfile, filepath='models'))\n",
    "        estimators[m] = model\n",
    "\n",
    "# generate learning curves\n",
    "for df in dnames:\n",
    "    # get train and test splits\n",
    "    X_train, X_test, y_train, y_test = split_data(dfs[df], seed=seed)\n",
    "    for name, estimator in estimators.iteritems():\n",
    "        create_learning_curve(estimator, scorer, X_train, y_train, data_name=df, clf_name=name)"
   ]
  },
  {
   "cell_type": "code",
   "execution_count": null,
   "metadata": {},
   "outputs": [],
   "source": [
    "clf_name = 'DT'\n",
    "data_name = 'seismic'\n",
    "estimator = estimators['DT']\n",
    "create_learning_curve(estimator, scorer, X_train, y_train, data_name, clf_name, cv=5)"
   ]
  },
  {
   "cell_type": "code",
   "execution_count": null,
   "metadata": {},
   "outputs": [],
   "source": [
    "clf_name = 'DT'\n",
    "data_name = 'seismic'\n",
    "estimator = estimators['DT']\n",
    "dataset = dfs['seismic']\n",
    "\n",
    "# set training sizes and intervals\n",
    "train_sizes = np.arange(0.01, 1.0, 0.025)\n",
    "\n",
    "# initialise variables\n",
    "train_time = []\n",
    "predict_time = []\n",
    "df_final = []\n",
    "\n",
    "# iterate through training sizes and capture training and predict times\n",
    "for i, train_data in enumerate(train_sizes):\n",
    "    print \"Train size is: \", train_data\n",
    "    print \"Test size is:\", 1-train_data\n",
    "    X_train, X_test, y_train, y_test = split_data(\n",
    "        dataset, test_size=1 - train_data)\n",
    "    start_train = timeit.default_timer()\n",
    "    estimator.fit(X_train, y_train)\n",
    "    end_train = timeit.default_timer()\n",
    "    estimator.predict(X_test)\n",
    "    end_predict = timeit.default_timer()\n",
    "    train_time.append(end_train - start_train)\n",
    "    predict_time.append(end_predict - end_train)\n",
    "    df_final.append([train_data, train_time[i], predict_time[i]])"
   ]
  },
  {
   "cell_type": "code",
   "execution_count": null,
   "metadata": {},
   "outputs": [],
   "source": [
    "df_final"
   ]
  },
  {
   "cell_type": "code",
   "execution_count": null,
   "metadata": {},
   "outputs": [],
   "source": []
  }
 ],
 "metadata": {
  "kernelspec": {
   "display_name": "Python 2",
   "language": "python",
   "name": "python2"
  },
  "language_info": {
   "codemirror_mode": {
    "name": "ipython",
    "version": 2
   },
   "file_extension": ".py",
   "mimetype": "text/x-python",
   "name": "python",
   "nbconvert_exporter": "python",
   "pygments_lexer": "ipython2",
   "version": "2.7.12"
  }
 },
 "nbformat": 4,
 "nbformat_minor": 2
}
