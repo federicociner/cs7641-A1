{
 "cells": [
  {
   "cell_type": "code",
   "execution_count": 1,
   "metadata": {},
   "outputs": [],
   "source": [
    "from model_evaluation import *\n",
    "from model_train import *\n",
    "from data_graphs import *\n",
    "import matplotlib.pyplot as plt\n",
    "from sklearn.model_selection import validation_curve\n",
    "from sklearn.metrics import confusion_matrix\n",
    "%matplotlib inline\n",
    "import numpy as np\n",
    "\n",
    "# set seed for cross-validation sampling\n",
    "seed = 0\n",
    "\n",
    "# set scoring function\n",
    "scorer = make_scorer(balanced_accuracy)\n",
    "\n",
    "# load datasets\n",
    "p_wine = get_abspath('winequality.csv', 'data/experiments')\n",
    "p_seismic = get_abspath('seismic-bumps.csv', 'data/experiments')\n",
    "df_wine = pd.read_csv(p_wine)\n",
    "df_seismic = pd.read_csv(p_seismic)\n",
    "dfs = {'wine': df_wine, 'seismic': df_seismic}\n",
    "dnames = ['wine', 'seismic']\n",
    "\n",
    "# instantiate dict of estimators\n",
    "estimators = {'KNN': None,\n",
    "              'DT': None,\n",
    "              'ANN': None,\n",
    "              'SVM_RBF': None,\n",
    "              'SVM_PLY': None,\n",
    "              'Boosting': None}\n",
    "mnames = ['KNN', 'DT', 'ANN', 'SVM_RBF', 'SVM_PLY', 'Boosting']\n",
    "\n",
    "for df in dnames:\n",
    "        X_train, X_test, y_train, y_test = split_data(dfs[df])\n",
    "        \n",
    "        # load pickled models into estimators dict\n",
    "        for m in mnames:\n",
    "            mfile = '{}/{}_grid.pkl'.format(m, df)\n",
    "            model = load_pickled_model(get_abspath(mfile, filepath='models'))\n",
    "            estimators[m] = model\n",
    "\n",
    "        for name, estimator in estimators.iteritems():\n",
    "            if name == 'DT':\n",
    "                y_pred = estimator.best_estimator_.predict(X_test)\n",
    "                cm = confusion_matrix(y_test, y_pred).astype('int')\n",
    "                save_path = get_abspath('{}_cm.txt'.format(df), 'results/{}'.format(name))\n",
    "                np.savetxt(save_path, cm, fmt='%d', delimiter=',')"
   ]
  }
 ],
 "metadata": {
  "kernelspec": {
   "display_name": "Python 2",
   "language": "python",
   "name": "python2"
  },
  "language_info": {
   "codemirror_mode": {
    "name": "ipython",
    "version": 2
   },
   "file_extension": ".py",
   "mimetype": "text/x-python",
   "name": "python",
   "nbconvert_exporter": "python",
   "pygments_lexer": "ipython2",
   "version": "2.7.12"
  }
 },
 "nbformat": 4,
 "nbformat_minor": 2
}
